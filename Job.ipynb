{
 "metadata": {
  "language_info": {
   "codemirror_mode": {
    "name": "ipython",
    "version": 3
   },
   "file_extension": ".py",
   "mimetype": "text/x-python",
   "name": "python",
   "nbconvert_exporter": "python",
   "pygments_lexer": "ipython3",
   "version": "3.7.7-final"
  },
  "orig_nbformat": 2,
  "kernelspec": {
   "name": "python3",
   "display_name": "Python 3"
  }
 },
 "nbformat": 4,
 "nbformat_minor": 2,
 "cells": [
  {
   "cell_type": "code",
   "execution_count": 1,
   "metadata": {},
   "outputs": [],
   "source": [
    "import pandas as pd\n",
    "import numpy as np\n",
    "from sklearn.model_selection import train_test_split"
   ]
  },
  {
   "cell_type": "code",
   "execution_count": 2,
   "metadata": {},
   "outputs": [
    {
     "output_type": "stream",
     "name": "stdout",
     "text": [
      "<class 'pandas.core.frame.DataFrame'>\nInt64Index: 687021 entries, 756932 to 821184\nData columns (total 4 columns):\n #   Column       Non-Null Count   Dtype \n---  ------       --------------   ----- \n 0   SEQUENCE_ID  687021 non-null  object\n 1   SEQUENCE     687021 non-null  object\n 2   CREATURE     687021 non-null  object\n 3   LABEL        687021 non-null  object\ndtypes: object(4)\nmemory usage: 26.2+ MB\n"
     ]
    }
   ],
   "source": [
    "Job = pd.read_csv('Train.csv')\n",
    "train, test = train_test_split(Job, test_size = 0.2, random_state = 101)\n",
    "job = train.copy()\n",
    "job.info()"
   ]
  },
  {
   "cell_type": "code",
   "execution_count": 3,
   "metadata": {},
   "outputs": [
    {
     "output_type": "execute_result",
     "data": {
      "text/plain": [
       "       SEQUENCE_ID                                           SEQUENCE  \\\n",
       "756932    VQQ7BD3W  MTSADWPGRWVRERVGYEPRDLSLFRAALTHRSASGPNNERLEFLG...   \n",
       "8695      0D8L7ZKC  MRVLAKTAYLLTTAALMSFGAVHMTSANEELMKMAENPKDWVMQTG...   \n",
       "215007    91501LGM  MSSFDYLKTAIKQQGCTLQQVADASGMTKGYLSQLLNAKIKSPSAQ...   \n",
       "126231    5AVRE4XO  MRESSKPRIKTSIGIVKKSKKSKGFFVEDATNESQFKLGKKEVYKV...   \n",
       "71071     2ZI4ESJU  MRLNKKVCSSLFLVGPMGVGKTTVGKQLAWELSLKFIDSDEEIEAL...   \n",
       "\n",
       "         CREATURE    LABEL  \n",
       "756932  creature8   class2  \n",
       "8695    creature5  class10  \n",
       "215007  creature0  class19  \n",
       "126231  creature8   class2  \n",
       "71071   creature8  class19  "
      ],
      "text/html": "<div>\n<style scoped>\n    .dataframe tbody tr th:only-of-type {\n        vertical-align: middle;\n    }\n\n    .dataframe tbody tr th {\n        vertical-align: top;\n    }\n\n    .dataframe thead th {\n        text-align: right;\n    }\n</style>\n<table border=\"1\" class=\"dataframe\">\n  <thead>\n    <tr style=\"text-align: right;\">\n      <th></th>\n      <th>SEQUENCE_ID</th>\n      <th>SEQUENCE</th>\n      <th>CREATURE</th>\n      <th>LABEL</th>\n    </tr>\n  </thead>\n  <tbody>\n    <tr>\n      <th>756932</th>\n      <td>VQQ7BD3W</td>\n      <td>MTSADWPGRWVRERVGYEPRDLSLFRAALTHRSASGPNNERLEFLG...</td>\n      <td>creature8</td>\n      <td>class2</td>\n    </tr>\n    <tr>\n      <th>8695</th>\n      <td>0D8L7ZKC</td>\n      <td>MRVLAKTAYLLTTAALMSFGAVHMTSANEELMKMAENPKDWVMQTG...</td>\n      <td>creature5</td>\n      <td>class10</td>\n    </tr>\n    <tr>\n      <th>215007</th>\n      <td>91501LGM</td>\n      <td>MSSFDYLKTAIKQQGCTLQQVADASGMTKGYLSQLLNAKIKSPSAQ...</td>\n      <td>creature0</td>\n      <td>class19</td>\n    </tr>\n    <tr>\n      <th>126231</th>\n      <td>5AVRE4XO</td>\n      <td>MRESSKPRIKTSIGIVKKSKKSKGFFVEDATNESQFKLGKKEVYKV...</td>\n      <td>creature8</td>\n      <td>class2</td>\n    </tr>\n    <tr>\n      <th>71071</th>\n      <td>2ZI4ESJU</td>\n      <td>MRLNKKVCSSLFLVGPMGVGKTTVGKQLAWELSLKFIDSDEEIEAL...</td>\n      <td>creature8</td>\n      <td>class19</td>\n    </tr>\n  </tbody>\n</table>\n</div>"
     },
     "metadata": {},
     "execution_count": 3
    }
   ],
   "source": [
    "job.head()"
   ]
  },
  {
   "cell_type": "code",
   "execution_count": null,
   "metadata": {},
   "outputs": [],
   "source": []
  }
 ]
}